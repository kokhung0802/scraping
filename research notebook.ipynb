{
 "cells": [
  {
   "cell_type": "code",
   "execution_count": 115,
   "id": "drawn-adult",
   "metadata": {},
   "outputs": [],
   "source": [
    "import pandas as pd\n",
    "import numpy as np\n",
    "import matplotlib.pyplot as plt\n",
    "import tensorflow_datasets as tfds\n",
    "from sklearn.model_selection import train_test_split\n",
    "from sklearn.metrics import confusion_matrix\n",
    "from transformers import AlbertTokenizer, TFAlbertForSequenceClassification\n",
    "import tensorflow as tf\n",
    "from tensorflow.keras.utils import to_categorical\n",
    "from tensorflow.keras.optimizers import Adam\n",
    "from tensorflow.keras.losses import BinaryCrossentropy"
   ]
  },
  {
   "cell_type": "code",
   "execution_count": 2,
   "id": "sacred-grenada",
   "metadata": {},
   "outputs": [],
   "source": [
    "df = pd.read_csv('user_profile.csv')"
   ]
  },
  {
   "cell_type": "code",
   "execution_count": 3,
   "id": "regulation-coordinate",
   "metadata": {},
   "outputs": [
    {
     "data": {
      "text/plain": [
       "(800, 3)"
      ]
     },
     "execution_count": 3,
     "metadata": {},
     "output_type": "execute_result"
    }
   ],
   "source": [
    "df.shape"
   ]
  },
  {
   "cell_type": "code",
   "execution_count": 4,
   "id": "governmental-evans",
   "metadata": {},
   "outputs": [
    {
     "data": {
      "text/html": [
       "<div>\n",
       "<style scoped>\n",
       "    .dataframe tbody tr th:only-of-type {\n",
       "        vertical-align: middle;\n",
       "    }\n",
       "\n",
       "    .dataframe tbody tr th {\n",
       "        vertical-align: top;\n",
       "    }\n",
       "\n",
       "    .dataframe thead th {\n",
       "        text-align: right;\n",
       "    }\n",
       "</style>\n",
       "<table border=\"1\" class=\"dataframe\">\n",
       "  <thead>\n",
       "    <tr style=\"text-align: right;\">\n",
       "      <th></th>\n",
       "      <th>name</th>\n",
       "      <th>ethnicity</th>\n",
       "      <th>gender</th>\n",
       "    </tr>\n",
       "  </thead>\n",
       "  <tbody>\n",
       "    <tr>\n",
       "      <th>0</th>\n",
       "      <td>Woody</td>\n",
       "      <td>Caucasian (White)</td>\n",
       "      <td>Male</td>\n",
       "    </tr>\n",
       "    <tr>\n",
       "      <th>1</th>\n",
       "      <td>Del</td>\n",
       "      <td>Other</td>\n",
       "      <td>Male</td>\n",
       "    </tr>\n",
       "    <tr>\n",
       "      <th>2</th>\n",
       "      <td>Steven</td>\n",
       "      <td>Mixed</td>\n",
       "      <td>Male</td>\n",
       "    </tr>\n",
       "    <tr>\n",
       "      <th>3</th>\n",
       "      <td>Keli Lu</td>\n",
       "      <td>Asian</td>\n",
       "      <td>Male</td>\n",
       "    </tr>\n",
       "    <tr>\n",
       "      <th>4</th>\n",
       "      <td>Dee</td>\n",
       "      <td>Mixed</td>\n",
       "      <td>Male</td>\n",
       "    </tr>\n",
       "  </tbody>\n",
       "</table>\n",
       "</div>"
      ],
      "text/plain": [
       "      name          ethnicity gender\n",
       "0    Woody  Caucasian (White)   Male\n",
       "1     Del               Other   Male\n",
       "2   Steven              Mixed   Male\n",
       "3  Keli Lu              Asian   Male\n",
       "4      Dee              Mixed   Male"
      ]
     },
     "execution_count": 4,
     "metadata": {},
     "output_type": "execute_result"
    }
   ],
   "source": [
    "df.head()"
   ]
  },
  {
   "cell_type": "code",
   "execution_count": 5,
   "id": "completed-roberts",
   "metadata": {},
   "outputs": [
    {
     "data": {
      "text/html": [
       "<div>\n",
       "<style scoped>\n",
       "    .dataframe tbody tr th:only-of-type {\n",
       "        vertical-align: middle;\n",
       "    }\n",
       "\n",
       "    .dataframe tbody tr th {\n",
       "        vertical-align: top;\n",
       "    }\n",
       "\n",
       "    .dataframe thead th {\n",
       "        text-align: right;\n",
       "    }\n",
       "</style>\n",
       "<table border=\"1\" class=\"dataframe\">\n",
       "  <thead>\n",
       "    <tr style=\"text-align: right;\">\n",
       "      <th></th>\n",
       "      <th>name</th>\n",
       "      <th>ethnicity</th>\n",
       "      <th>gender</th>\n",
       "    </tr>\n",
       "  </thead>\n",
       "  <tbody>\n",
       "    <tr>\n",
       "      <th>599</th>\n",
       "      <td>NaN</td>\n",
       "      <td>Other</td>\n",
       "      <td>Female</td>\n",
       "    </tr>\n",
       "  </tbody>\n",
       "</table>\n",
       "</div>"
      ],
      "text/plain": [
       "    name ethnicity  gender\n",
       "599  NaN     Other  Female"
      ]
     },
     "execution_count": 5,
     "metadata": {},
     "output_type": "execute_result"
    }
   ],
   "source": [
    "# check null values\n",
    "df[df.isnull().any(axis=1)]"
   ]
  },
  {
   "cell_type": "code",
   "execution_count": 6,
   "id": "toxic-sweden",
   "metadata": {},
   "outputs": [],
   "source": [
    "# remove null value\n",
    "df = df.dropna().reset_index(drop=True)"
   ]
  },
  {
   "cell_type": "code",
   "execution_count": 7,
   "id": "center-immune",
   "metadata": {},
   "outputs": [
    {
     "data": {
      "text/html": [
       "<div>\n",
       "<style scoped>\n",
       "    .dataframe tbody tr th:only-of-type {\n",
       "        vertical-align: middle;\n",
       "    }\n",
       "\n",
       "    .dataframe tbody tr th {\n",
       "        vertical-align: top;\n",
       "    }\n",
       "\n",
       "    .dataframe thead th {\n",
       "        text-align: right;\n",
       "    }\n",
       "</style>\n",
       "<table border=\"1\" class=\"dataframe\">\n",
       "  <thead>\n",
       "    <tr style=\"text-align: right;\">\n",
       "      <th></th>\n",
       "      <th>name</th>\n",
       "      <th>ethnicity</th>\n",
       "      <th>gender</th>\n",
       "    </tr>\n",
       "  </thead>\n",
       "  <tbody>\n",
       "  </tbody>\n",
       "</table>\n",
       "</div>"
      ],
      "text/plain": [
       "Empty DataFrame\n",
       "Columns: [name, ethnicity, gender]\n",
       "Index: []"
      ]
     },
     "execution_count": 7,
     "metadata": {},
     "output_type": "execute_result"
    }
   ],
   "source": [
    "# verify null values has been deleted\n",
    "df[df.isnull().any(axis=1)]"
   ]
  },
  {
   "cell_type": "code",
   "execution_count": 8,
   "id": "accredited-concrete",
   "metadata": {},
   "outputs": [
    {
     "name": "stdout",
     "output_type": "stream",
     "text": [
      "Male      400\n",
      "Female    399\n",
      "Name: gender, dtype: int64\n"
     ]
    }
   ],
   "source": [
    "df_chart = df['gender'].value_counts()\n",
    "print(df_chart)"
   ]
  },
  {
   "cell_type": "code",
   "execution_count": 9,
   "id": "australian-connection",
   "metadata": {},
   "outputs": [
    {
     "name": "stdout",
     "output_type": "stream",
     "text": [
      "Hispanic / Latino        230\n",
      "No Answer                170\n",
      "Caucasian (White)        137\n",
      "Asian                    124\n",
      "Mixed                     42\n",
      "Black                     26\n",
      "Chinese                   23\n",
      "Indian                    19\n",
      "Other                     15\n",
      "Malay                      6\n",
      "Pacific Islander           3\n",
      "Prefer not to say          3\n",
      "Arab (Middle Eastern)      1\n",
      "Name: ethnicity, dtype: int64\n"
     ]
    }
   ],
   "source": [
    "df_chart = df['ethnicity'].value_counts()\n",
    "print(df_chart)"
   ]
  },
  {
   "cell_type": "code",
   "execution_count": 10,
   "id": "personal-speaker",
   "metadata": {},
   "outputs": [],
   "source": [
    "conditions = ['No Answer', 'Mixed', 'Other', 'Prefer not to say', 'Pacific Islander', 'Arab (Middle Eastern)', 'Black']\n",
    "df = df.drop(df[df['ethnicity'].isin(conditions)].index)"
   ]
  },
  {
   "cell_type": "code",
   "execution_count": 11,
   "id": "caroline-recycling",
   "metadata": {},
   "outputs": [
    {
     "data": {
      "text/plain": [
       "(539, 3)"
      ]
     },
     "execution_count": 11,
     "metadata": {},
     "output_type": "execute_result"
    }
   ],
   "source": [
    "df.shape"
   ]
  },
  {
   "cell_type": "code",
   "execution_count": 12,
   "id": "floral-basic",
   "metadata": {},
   "outputs": [
    {
     "name": "stdout",
     "output_type": "stream",
     "text": [
      "Hispanic / Latino    230\n",
      "Caucasian (White)    137\n",
      "Asian                124\n",
      "Chinese               23\n",
      "Indian                19\n",
      "Malay                  6\n",
      "Name: ethnicity, dtype: int64\n"
     ]
    }
   ],
   "source": [
    "df_chart = df['ethnicity'].value_counts()\n",
    "print(df_chart)"
   ]
  },
  {
   "cell_type": "code",
   "execution_count": 13,
   "id": "eastern-charge",
   "metadata": {},
   "outputs": [],
   "source": [
    "transform_values = ['Chinese', 'Indian', 'Malay']\n",
    "df.loc[df['ethnicity'].isin(transform_values), 'ethnicity'] = 'Asian'"
   ]
  },
  {
   "cell_type": "code",
   "execution_count": 14,
   "id": "supported-premium",
   "metadata": {},
   "outputs": [
    {
     "name": "stdout",
     "output_type": "stream",
     "text": [
      "Hispanic / Latino    230\n",
      "Asian                172\n",
      "Caucasian (White)    137\n",
      "Name: ethnicity, dtype: int64\n"
     ]
    }
   ],
   "source": [
    "df_chart = df['ethnicity'].value_counts()\n",
    "print(df_chart)"
   ]
  },
  {
   "cell_type": "code",
   "execution_count": 15,
   "id": "worldwide-progressive",
   "metadata": {},
   "outputs": [
    {
     "name": "stdout",
     "output_type": "stream",
     "text": [
      "Female    313\n",
      "Male      226\n",
      "Name: gender, dtype: int64\n"
     ]
    }
   ],
   "source": [
    "df_chart = df['gender'].value_counts()\n",
    "print(df_chart)"
   ]
  },
  {
   "cell_type": "code",
   "execution_count": 16,
   "id": "polish-digest",
   "metadata": {},
   "outputs": [
    {
     "data": {
      "text/plain": [
       "<AxesSubplot:title={'center':'Ethnicity'}>"
      ]
     },
     "execution_count": 16,
     "metadata": {},
     "output_type": "execute_result"
    },
    {
     "data": {
      "image/png": "[encoded data removed]",
      "text/plain": [
       "<Figure size 720x360 with 1 Axes>"
      ]
     },
     "metadata": {
      "needs_background": "light"
     },
     "output_type": "display_data"
    }
   ],
   "source": [
    "df_chart_ethnicity = df['ethnicity'].value_counts()\n",
    "df_chart_ethnicity.plot(kind='bar', rot=0, color=['#4640F2', '#F6811B', '#e3051e'], figsize=(10,5), fontsize=16, title='Ethnicity')"
   ]
  },
  {
   "cell_type": "code",
   "execution_count": 17,
   "id": "perfect-bermuda",
   "metadata": {},
   "outputs": [
    {
     "data": {
      "text/plain": [
       "<AxesSubplot:title={'center':'Gender'}>"
      ]
     },
     "execution_count": 17,
     "metadata": {},
     "output_type": "execute_result"
    },
    {
     "data": {
      "image/png": "[encoded data removed]",
      "text/plain": [
       "<Figure size 720x360 with 1 Axes>"
      ]
     },
     "metadata": {
      "needs_background": "light"
     },
     "output_type": "display_data"
    }
   ],
   "source": [
    "df_gender_chart = df['gender'].value_counts()\n",
    "df_gender_chart.plot(kind='bar', rot=0, color=['#4640F2', '#F6811B'], figsize=(10,5), fontsize=16, title='Gender')"
   ]
  },
  {
   "cell_type": "markdown",
   "id": "individual-eligibility",
   "metadata": {},
   "source": [
    "**Split dataset**"
   ]
  },
  {
   "cell_type": "code",
   "execution_count": 100,
   "id": "handy-lucas",
   "metadata": {},
   "outputs": [],
   "source": [
    "# Gender\n",
    "X_gender = df['name']\n",
    "y_gender = df['gender']\n",
    "y_gender = y_gender.apply(lambda x: 1 if x == 'Male' else 0)"
   ]
  },
  {
   "cell_type": "code",
   "execution_count": 101,
   "id": "after-genealogy",
   "metadata": {},
   "outputs": [],
   "source": [
    "X_train_g, X_test_g, y_train_g, y_test_g = train_test_split(X_gender, y_gender, test_size=0.15, random_state=42, stratify=y_gender)"
   ]
  },
  {
   "cell_type": "code",
   "execution_count": 48,
   "id": "entitled-digest",
   "metadata": {},
   "outputs": [],
   "source": [
    "X_train_g, X_valid_g, y_train_g, y_valid_g = train_test_split(X_train_g, y_train_g, test_size=0.15, random_state=42, stratify=y_train_g)"
   ]
  },
  {
   "cell_type": "code",
   "execution_count": 102,
   "id": "operational-carter",
   "metadata": {},
   "outputs": [
    {
     "name": "stdout",
     "output_type": "stream",
     "text": [
      "(458,)\n",
      "(69,)\n",
      "(81,)\n"
     ]
    }
   ],
   "source": [
    "print(y_train_g.shape)\n",
    "print(y_valid_g.shape)\n",
    "print(y_test_g.shape)"
   ]
  },
  {
   "cell_type": "markdown",
   "id": "varying-joseph",
   "metadata": {},
   "source": [
    "**Transformer Approach**"
   ]
  },
  {
   "cell_type": "code",
   "execution_count": 2,
   "id": "unexpected-answer",
   "metadata": {},
   "outputs": [
    {
     "data": {
      "application/vnd.jupyter.widget-view+json": {
       "model_id": "545ee7700b0244c9be46529a368194ae",
       "version_major": 2,
       "version_minor": 0
      },
      "text/plain": [
       "Downloading:   0%|          | 0.00/760k [00:00<?, ?B/s]"
      ]
     },
     "metadata": {},
     "output_type": "display_data"
    },
    {
     "data": {
      "application/vnd.jupyter.widget-view+json": {
       "model_id": "68f159156ce84be08fbf08b414b7bad6",
       "version_major": 2,
       "version_minor": 0
      },
      "text/plain": [
       "Downloading:   0%|          | 0.00/1.31M [00:00<?, ?B/s]"
      ]
     },
     "metadata": {},
     "output_type": "display_data"
    }
   ],
   "source": [
    "albert_name = 'albert-base-v2'\n",
    "tokenizer = AlbertTokenizer.from_pretrained(albert_name,\n",
    "    add_special_tokens=True,\n",
    "    do_lower_case=False,\n",
    "    max_length=80,\n",
    "    pad_to_max_length=True)"
   ]
  },
  {
   "cell_type": "code",
   "execution_count": 23,
   "id": "blessed-commons",
   "metadata": {},
   "outputs": [],
   "source": [
    "def albert_encoder(review):\n",
    "    encoded = tokenizer.encode_plus(review, add_special_tokens=True,\n",
    "        max_length=80,\n",
    "        pad_to_max_length=True,\n",
    "        return_attention_mask=True,\n",
    "        return_token_type_ids=True)\n",
    "    return encoded['input_ids'], encoded['token_type_ids'], encoded['attention_mask']"
   ]
  },
  {
   "cell_type": "code",
   "execution_count": 43,
   "id": "dirty-relevance",
   "metadata": {},
   "outputs": [
    {
     "name": "stderr",
     "output_type": "stream",
     "text": [
      "C:\\Users\\kok19\\anaconda3\\envs\\scraping\\lib\\site-packages\\transformers\\tokenization_utils_base.py:2104: FutureWarning: The `pad_to_max_length` argument is deprecated and will be removed in a future version, use `padding=True` or `padding='longest'` to pad to the longest sequence in the batch, or use `padding='max_length'` to pad to a max length. In this case, you can give a specific length with `max_length` (e.g. `max_length=45`) or leave max_length to None to pad to the maximal input size of the model (e.g. 512 for Bert).\n",
      "  warnings.warn(\n"
     ]
    }
   ],
   "source": [
    "# X train gender\n",
    "X_train_g = [albert_encoder(X_train_g.iloc[i]) for i in range(X_train_g.shape[0])]\n",
    "X_train_g = np.array(X_train_g)\n",
    "\n",
    "y_train_g = y_train_g.to_list()\n",
    "y_train_g = np.array(y_train_g)\n",
    "y_train_g = to_categorical(y_train_g, num_classes=2)"
   ]
  },
  {
   "cell_type": "code",
   "execution_count": 45,
   "id": "collective-revelation",
   "metadata": {},
   "outputs": [],
   "source": [
    "# X valid gender\n",
    "X_valid_g = [albert_encoder(X_valid_g.iloc[i]) for i in range(X_valid_g.shape[0])]\n",
    "X_valid_g = np.array(X_valid_g)\n",
    "\n",
    "y_valid_g = y_valid_g.to_list()\n",
    "y_valid_g = np.array(y_valid_g)\n",
    "y_valid_g = to_categorical(y_valid_g, num_classes=2)"
   ]
  },
  {
   "cell_type": "code",
   "execution_count": 46,
   "id": "breeding-annex",
   "metadata": {},
   "outputs": [
    {
     "name": "stdout",
     "output_type": "stream",
     "text": [
      "(389, 1, 80)\n"
     ]
    }
   ],
   "source": [
    "tr_name, tr_segments, tr_masks = np.split(X_train_g, 3, axis=1)\n",
    "val_name, val_segments, val_masks = np.split(X_valid_g, 3, axis=1)\n",
    "print(tr_name.shape)"
   ]
  },
  {
   "cell_type": "code",
   "execution_count": 48,
   "id": "novel-stand",
   "metadata": {},
   "outputs": [
    {
     "name": "stdout",
     "output_type": "stream",
     "text": [
      "(389, 80)\n"
     ]
    }
   ],
   "source": [
    "tr_name = tr_name.squeeze()\n",
    "tr_segments = tr_segments.squeeze()\n",
    "tr_masks = tr_masks.squeeze()\n",
    "\n",
    "val_name = val_name.squeeze()\n",
    "val_segments = val_segments.squeeze()\n",
    "val_masks = val_masks.squeeze()\n",
    "\n",
    "print(tr_name.shape)"
   ]
  },
  {
   "cell_type": "code",
   "execution_count": 49,
   "id": "hazardous-estate",
   "metadata": {},
   "outputs": [],
   "source": [
    "def example_to_features(input_ids,attention_masks,token_type_ids,y):\n",
    "    return {\"input_ids\": input_ids,\"attention_mask\": attention_masks,\"token_type_ids\": token_type_ids},y"
   ]
  },
  {
   "cell_type": "code",
   "execution_count": 51,
   "id": "recognized-submission",
   "metadata": {},
   "outputs": [],
   "source": [
    "train_ds = tf.data.Dataset.from_tensor_slices((tr_name, tr_masks, tr_segments, y_train_g)).map(example_to_features).shuffle(100).batch(8)\n",
    "valid_ds = tf.data.Dataset.from_tensor_slices((val_name,val_masks, val_segments, y_valid_g)).map(example_to_features).shuffle(100).batch(8)"
   ]
  },
  {
   "cell_type": "code",
   "execution_count": 52,
   "id": "north-astrology",
   "metadata": {},
   "outputs": [
    {
     "data": {
      "application/vnd.jupyter.widget-view+json": {
       "model_id": "0fe45983eec449dea4d13f45306d8cbd",
       "version_major": 2,
       "version_minor": 0
      },
      "text/plain": [
       "Downloading:   0%|          | 0.00/684 [00:00<?, ?B/s]"
      ]
     },
     "metadata": {},
     "output_type": "display_data"
    },
    {
     "data": {
      "application/vnd.jupyter.widget-view+json": {
       "model_id": "2e90d81e7a6c4d3cb299480513c403bc",
       "version_major": 2,
       "version_minor": 0
      },
      "text/plain": [
       "Downloading:   0%|          | 0.00/63.0M [00:00<?, ?B/s]"
      ]
     },
     "metadata": {},
     "output_type": "display_data"
    },
    {
     "name": "stderr",
     "output_type": "stream",
     "text": [
      "All model checkpoint layers were used when initializing TFAlbertForSequenceClassification.\n",
      "\n",
      "Some layers of TFAlbertForSequenceClassification were not initialized from the model checkpoint at albert-base-v2 and are newly initialized: ['classifier']\n",
      "You should probably TRAIN this model on a down-stream task to be able to use it for predictions and inference.\n"
     ]
    }
   ],
   "source": [
    "albert_model = TFAlbertForSequenceClassification.from_pretrained(albert_name)"
   ]
  },
  {
   "cell_type": "code",
   "execution_count": 54,
   "id": "coupled-license",
   "metadata": {},
   "outputs": [],
   "source": [
    "optimizer = Adam(learning_rate=2e-5)\n",
    "loss = BinaryCrossentropy(from_logits=True)\n",
    "albert_model.compile(optimizer=optimizer, loss=loss, metrics=['accuracy'])"
   ]
  },
  {
   "cell_type": "code",
   "execution_count": 55,
   "id": "dried-transport",
   "metadata": {},
   "outputs": [
    {
     "name": "stdout",
     "output_type": "stream",
     "text": [
      "Model: \"tf_albert_for_sequence_classification\"\n",
      "_________________________________________________________________\n",
      "Layer (type)                 Output Shape              Param #   \n",
      "=================================================================\n",
      "albert (TFAlbertMainLayer)   multiple                  11683584  \n",
      "_________________________________________________________________\n",
      "dropout_4 (Dropout)          multiple                  0         \n",
      "_________________________________________________________________\n",
      "classifier (Dense)           multiple                  1538      \n",
      "=================================================================\n",
      "Total params: 11,685,122\n",
      "Trainable params: 11,685,122\n",
      "Non-trainable params: 0\n",
      "_________________________________________________________________\n"
     ]
    }
   ],
   "source": [
    "albert_model.summary()"
   ]
  },
  {
   "cell_type": "code",
   "execution_count": 56,
   "id": "controlled-finder",
   "metadata": {},
   "outputs": [
    {
     "name": "stdout",
     "output_type": "stream",
     "text": [
      "Fine-tuning ALBERT\n",
      "Epoch 1/3\n",
      "WARNING:tensorflow:AutoGraph could not transform <bound method TFAlbertForSequenceClassification.call of <transformers.models.albert.modeling_tf_albert.TFAlbertForSequenceClassification object at 0x0000027858086070>> and will run it as-is.\n",
      "Please report this to the TensorFlow team. When filing the bug, set the verbosity to 10 (on Linux, `export AUTOGRAPH_VERBOSITY=10`) and attach the full output.\n",
      "Cause: module 'gast' has no attribute 'Index'\n",
      "To silence this warning, decorate the function with @tf.autograph.experimental.do_not_convert\n",
      "WARNING: AutoGraph could not transform <bound method TFAlbertForSequenceClassification.call of <transformers.models.albert.modeling_tf_albert.TFAlbertForSequenceClassification object at 0x0000027858086070>> and will run it as-is.\n",
      "Please report this to the TensorFlow team. When filing the bug, set the verbosity to 10 (on Linux, `export AUTOGRAPH_VERBOSITY=10`) and attach the full output.\n",
      "Cause: module 'gast' has no attribute 'Index'\n",
      "To silence this warning, decorate the function with @tf.autograph.experimental.do_not_convert\n",
      "WARNING:tensorflow:AutoGraph could not transform <bound method TFAlbertMainLayer.call of <transformers.models.albert.modeling_tf_albert.TFAlbertMainLayer object at 0x0000027859464E20>> and will run it as-is.\n",
      "Please report this to the TensorFlow team. When filing the bug, set the verbosity to 10 (on Linux, `export AUTOGRAPH_VERBOSITY=10`) and attach the full output.\n",
      "Cause: module 'gast' has no attribute 'Index'\n",
      "To silence this warning, decorate the function with @tf.autograph.experimental.do_not_convert\n",
      "WARNING: AutoGraph could not transform <bound method TFAlbertMainLayer.call of <transformers.models.albert.modeling_tf_albert.TFAlbertMainLayer object at 0x0000027859464E20>> and will run it as-is.\n",
      "Please report this to the TensorFlow team. When filing the bug, set the verbosity to 10 (on Linux, `export AUTOGRAPH_VERBOSITY=10`) and attach the full output.\n",
      "Cause: module 'gast' has no attribute 'Index'\n",
      "To silence this warning, decorate the function with @tf.autograph.experimental.do_not_convert\n",
      "WARNING:tensorflow:The parameters `output_attentions`, `output_hidden_states` and `use_cache` cannot be updated when calling a model.They have to be set to True/False in the config object (i.e.: `config=XConfig.from_pretrained('name', output_attentions=True)`).\n",
      "WARNING:tensorflow:The parameter `return_dict` cannot be set in graph mode and will always be set to `True`.\n",
      "WARNING:tensorflow:AutoGraph could not transform <bound method TFAlbertEmbeddings.call of <transformers.models.albert.modeling_tf_albert.TFAlbertEmbeddings object at 0x0000027859464E50>> and will run it as-is.\n",
      "Please report this to the TensorFlow team. When filing the bug, set the verbosity to 10 (on Linux, `export AUTOGRAPH_VERBOSITY=10`) and attach the full output.\n",
      "Cause: module 'gast' has no attribute 'Index'\n",
      "To silence this warning, decorate the function with @tf.autograph.experimental.do_not_convert\n",
      "WARNING: AutoGraph could not transform <bound method TFAlbertEmbeddings.call of <transformers.models.albert.modeling_tf_albert.TFAlbertEmbeddings object at 0x0000027859464E50>> and will run it as-is.\n",
      "Please report this to the TensorFlow team. When filing the bug, set the verbosity to 10 (on Linux, `export AUTOGRAPH_VERBOSITY=10`) and attach the full output.\n",
      "Cause: module 'gast' has no attribute 'Index'\n",
      "To silence this warning, decorate the function with @tf.autograph.experimental.do_not_convert\n",
      "WARNING:tensorflow:AutoGraph could not transform <bound method TFAlbertTransformer.call of <transformers.models.albert.modeling_tf_albert.TFAlbertTransformer object at 0x0000027859478A90>> and will run it as-is.\n",
      "Please report this to the TensorFlow team. When filing the bug, set the verbosity to 10 (on Linux, `export AUTOGRAPH_VERBOSITY=10`) and attach the full output.\n",
      "Cause: module 'gast' has no attribute 'Index'\n",
      "To silence this warning, decorate the function with @tf.autograph.experimental.do_not_convert\n",
      "WARNING: AutoGraph could not transform <bound method TFAlbertTransformer.call of <transformers.models.albert.modeling_tf_albert.TFAlbertTransformer object at 0x0000027859478A90>> and will run it as-is.\n",
      "Please report this to the TensorFlow team. When filing the bug, set the verbosity to 10 (on Linux, `export AUTOGRAPH_VERBOSITY=10`) and attach the full output.\n",
      "Cause: module 'gast' has no attribute 'Index'\n",
      "To silence this warning, decorate the function with @tf.autograph.experimental.do_not_convert\n",
      "WARNING:tensorflow:AutoGraph could not transform <bound method TFAlbertLayerGroup.call of <transformers.models.albert.modeling_tf_albert.TFAlbertLayerGroup object at 0x0000027859478E50>> and will run it as-is.\n",
      "Please report this to the TensorFlow team. When filing the bug, set the verbosity to 10 (on Linux, `export AUTOGRAPH_VERBOSITY=10`) and attach the full output.\n",
      "Cause: module 'gast' has no attribute 'Index'\n",
      "To silence this warning, decorate the function with @tf.autograph.experimental.do_not_convert\n",
      "WARNING: AutoGraph could not transform <bound method TFAlbertLayerGroup.call of <transformers.models.albert.modeling_tf_albert.TFAlbertLayerGroup object at 0x0000027859478E50>> and will run it as-is.\n",
      "Please report this to the TensorFlow team. When filing the bug, set the verbosity to 10 (on Linux, `export AUTOGRAPH_VERBOSITY=10`) and attach the full output.\n",
      "Cause: module 'gast' has no attribute 'Index'\n",
      "To silence this warning, decorate the function with @tf.autograph.experimental.do_not_convert\n",
      "WARNING:tensorflow:AutoGraph could not transform <bound method TFAlbertLayer.call of <transformers.models.albert.modeling_tf_albert.TFAlbertLayer object at 0x00000278594BB220>> and will run it as-is.\n",
      "Please report this to the TensorFlow team. When filing the bug, set the verbosity to 10 (on Linux, `export AUTOGRAPH_VERBOSITY=10`) and attach the full output.\n",
      "Cause: module 'gast' has no attribute 'Index'\n",
      "To silence this warning, decorate the function with @tf.autograph.experimental.do_not_convert\n",
      "WARNING: AutoGraph could not transform <bound method TFAlbertLayer.call of <transformers.models.albert.modeling_tf_albert.TFAlbertLayer object at 0x00000278594BB220>> and will run it as-is.\n",
      "Please report this to the TensorFlow team. When filing the bug, set the verbosity to 10 (on Linux, `export AUTOGRAPH_VERBOSITY=10`) and attach the full output.\n",
      "Cause: module 'gast' has no attribute 'Index'\n",
      "To silence this warning, decorate the function with @tf.autograph.experimental.do_not_convert\n",
      "WARNING:tensorflow:AutoGraph could not transform <bound method TFAlbertAttention.call of <transformers.models.albert.modeling_tf_albert.TFAlbertAttention object at 0x00000278594BB370>> and will run it as-is.\n",
      "Please report this to the TensorFlow team. When filing the bug, set the verbosity to 10 (on Linux, `export AUTOGRAPH_VERBOSITY=10`) and attach the full output.\n",
      "Cause: module 'gast' has no attribute 'Index'\n",
      "To silence this warning, decorate the function with @tf.autograph.experimental.do_not_convert\n",
      "WARNING: AutoGraph could not transform <bound method TFAlbertAttention.call of <transformers.models.albert.modeling_tf_albert.TFAlbertAttention object at 0x00000278594BB370>> and will run it as-is.\n",
      "Please report this to the TensorFlow team. When filing the bug, set the verbosity to 10 (on Linux, `export AUTOGRAPH_VERBOSITY=10`) and attach the full output.\n",
      "Cause: module 'gast' has no attribute 'Index'\n",
      "To silence this warning, decorate the function with @tf.autograph.experimental.do_not_convert\n",
      "WARNING:tensorflow:The parameters `output_attentions`, `output_hidden_states` and `use_cache` cannot be updated when calling a model.They have to be set to True/False in the config object (i.e.: `config=XConfig.from_pretrained('name', output_attentions=True)`).\n",
      "WARNING:tensorflow:The parameter `return_dict` cannot be set in graph mode and will always be set to `True`.\n",
      "49/49 [==============================] - ETA: 0s - loss: 0.6958 - accuracy: 0.5733 WARNING:tensorflow:The parameters `output_attentions`, `output_hidden_states` and `use_cache` cannot be updated when calling a model.They have to be set to True/False in the config object (i.e.: `config=XConfig.from_pretrained('name', output_attentions=True)`).\n"
     ]
    },
    {
     "name": "stdout",
     "output_type": "stream",
     "text": [
      "WARNING:tensorflow:The parameter `return_dict` cannot be set in graph mode and will always be set to `True`.\n",
      "49/49 [==============================] - 1502s 31s/step - loss: 0.6958 - accuracy: 0.5733 - val_loss: 0.6799 - val_accuracy: 0.5797\n",
      "Epoch 2/3\n",
      "49/49 [==============================] - 1475s 30s/step - loss: 0.6820 - accuracy: 0.5835 - val_loss: 0.6728 - val_accuracy: 0.5797\n",
      "Epoch 3/3\n",
      "49/49 [==============================] - 1528s 31s/step - loss: 0.6745 - accuracy: 0.5835 - val_loss: 0.6668 - val_accuracy: 0.5942\n"
     ]
    }
   ],
   "source": [
    "print(\"Fine-tuning ALBERT\")\n",
    "albert_history = albert_model.fit(train_ds, epochs=3, validation_data=valid_ds)"
   ]
  }
 ],
 "metadata": {
  "kernelspec": {
   "display_name": "Python 3",
   "language": "python",
   "name": "python3"
  },
  "language_info": {
   "codemirror_mode": {
    "name": "ipython",
    "version": 3
   },
   "file_extension": ".py",
   "mimetype": "text/x-python",
   "name": "python",
   "nbconvert_exporter": "python",
   "pygments_lexer": "ipython3",
   "version": "3.8.5"
  }
 },
 "nbformat": 4,
 "nbformat_minor": 5
}
